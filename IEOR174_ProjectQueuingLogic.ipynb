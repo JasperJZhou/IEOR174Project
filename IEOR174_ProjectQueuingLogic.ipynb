{
 "cells": [
  {
   "cell_type": "code",
   "execution_count": 1,
   "metadata": {},
   "outputs": [],
   "source": [
    "import numpy as np\n",
    "import matplotlib.pyplot as plt\n",
    "import pandas as pd\n",
    "import math\n",
    "import scipy as sc"
   ]
  },
  {
   "cell_type": "code",
   "execution_count": 87,
   "metadata": {},
   "outputs": [],
   "source": [
    "class Station():\n",
    "    def __init__(self, station_name, num_bikes, num_docks, arr_stream):\n",
    "        \n",
    "        #Initialization of Station Class:\n",
    "        #station_name: Name of station (string)\n",
    "        #num_bikes: number of bikes at the station initially (int)\n",
    "        #num_docks: number of docks at the station initially (int)\n",
    "        #arr_stream: data stream containing our arrivals to the station (Pandas DataFrame)\n",
    "        \n",
    "        self.station_name = station_name\n",
    "        self.num_bikes = num_bikes\n",
    "        self.num_docks = num_docks\n",
    "        self.arr_stream = arr_stream\n",
    "        self.simulate(num_bikes, num_docks, arr_stream)\n",
    "        print(\"Station \" + station_name + \" has been initialized\")\n",
    "        \n",
    "    def simulate(self, num_bikes, num_docks, arr_stream):\n",
    "        num_bikes = num_bikes #initial number of bikes\n",
    "        num_docks = num_docks #initial number of docks\n",
    "        arr_stream = arr_stream\n",
    "        self.wait_time_arr = [] #array of wait times for customers\n",
    "        self.bike_num_arr = [] #array of bike numbers after each \"transaction\"\n",
    "        self.dock_num_arr = [] #array of dock numbers after each \"transaction\"\n",
    "        \n",
    "        for i in range(len(arr_stream)): #For all the values in our data stream            \n",
    "            if arr_stream.iloc[i, :][\"Type_Of_Customer\"] == \"Returning\": #if customer is returning a bike                \n",
    "                if num_docks > 0: #If there is an available dock                    \n",
    "                    wait_time = 0 #instant service (PLAY WITH THIS. COULD ADD DELAY)\n",
    "                    \n",
    "                else: #If there is no available docks                    \n",
    "                    #Customer must wait until another customer comes and borrows a bike\n",
    "                    remaining_df = arr_stream.iloc[i+1: len(arr_stream), :] #Look in the remaining df\n",
    "                    next_borrow_df = remaining_df.where(remaining_df[\"Type_Of_Customer\"] == \"Borrowing\").dropna() #Find the people borrowing\n",
    "                    next_avail_dock_time = min(next_borrow_df[\"Arrival_Time\"]) #Find the minimum time\n",
    "                    wait_time = next_avail_dock_time - arr_stream.iloc[i, :][\"Arrival_Time\"] #Wait time is next dock time - arrival_time of current customer\n",
    "                \n",
    "                num_bikes = max(0, num_bikes + 1) #returning a bike means one more bike\n",
    "                num_docks = max(0, num_docks - 1) #returning a bike means one less dock\n",
    "                \n",
    "            else: #Else customer is borrowing (customers can only be returning or borrowing)\n",
    "                if num_bikes  > 0: #If there is an available bike                   \n",
    "                    wait_time = 0 #instant service (PLAY WITH THIS. COULD ADD DELAY)\n",
    "                    \n",
    "                else: #If there is no available bikes                   \n",
    "                    #Customer must wait until another customer comes and returns a bike\n",
    "                    remaining_df = arr_stream.iloc[i+1: len(arr_stream), :] #Look in the remaining df\n",
    "                    next_returning_df = remaining_df.where(remaining_df[\"Type_Of_Customer\"] == \"Returning\").dropna() #Find the people returning\n",
    "                    next_avail_bike_time = min(next_returning_df[\"Arrival_Time\"]) #Find the minimum time\n",
    "                    wait_time = next_avail_bike_time - arr_stream.iloc[i, :] [\"Arrival_Time\"]#Wait time is next dock time - arrival_time of current customer\n",
    "                \n",
    "                num_bikes = max(0, num_bikes - 1) #borrowing a bike means one less bike\n",
    "                num_docks = max(0, num_docks + 1) #borrowing a bike means one more dock\n",
    "                \n",
    "            #Append information to our arrays:\n",
    "            self.wait_time_arr.append(wait_time)\n",
    "            self.bike_num_arr.append(num_bikes)\n",
    "            self.dock_num_arr.append(num_docks)\n",
    "            \n",
    "    def get_wait_time(self):\n",
    "        return self.wait_time_arr\n",
    "    \n",
    "    def get_bike_num(self):\n",
    "        return self.bike_num_arr\n",
    "    \n",
    "    def get_dock_num(self):\n",
    "        return self.dock_num_arr\n"
   ]
  },
  {
   "cell_type": "code",
   "execution_count": 90,
   "metadata": {},
   "outputs": [
    {
     "ename": "ValueError",
     "evalue": "min() arg is an empty sequence",
     "output_type": "error",
     "traceback": [
      "\u001b[1;31m---------------------------------------------------------------------------\u001b[0m",
      "\u001b[1;31mValueError\u001b[0m                                Traceback (most recent call last)",
      "\u001b[1;32m<ipython-input-90-cf5bacf5ee9b>\u001b[0m in \u001b[0;36m<module>\u001b[1;34m\u001b[0m\n\u001b[0;32m      3\u001b[0m                         \u001b[1;34m\"Station_From\"\u001b[0m\u001b[1;33m:\u001b[0m \u001b[1;33m[\u001b[0m\u001b[1;34m\"Joe\"\u001b[0m\u001b[1;33m]\u001b[0m\u001b[1;33m\u001b[0m\u001b[1;33m\u001b[0m\u001b[0m\n\u001b[0;32m      4\u001b[0m                        })\n\u001b[1;32m----> 5\u001b[1;33m \u001b[0mtest_station\u001b[0m \u001b[1;33m=\u001b[0m \u001b[0mStation\u001b[0m\u001b[1;33m(\u001b[0m\u001b[1;34m\"Bob\"\u001b[0m\u001b[1;33m,\u001b[0m \u001b[1;36m0\u001b[0m\u001b[1;33m,\u001b[0m \u001b[1;36m5\u001b[0m\u001b[1;33m,\u001b[0m \u001b[0mtest_df\u001b[0m\u001b[1;33m)\u001b[0m\u001b[1;33m\u001b[0m\u001b[1;33m\u001b[0m\u001b[0m\n\u001b[0m",
      "\u001b[1;32m<ipython-input-87-1872413ee487>\u001b[0m in \u001b[0;36m__init__\u001b[1;34m(self, station_name, num_bikes, num_docks, arr_stream)\u001b[0m\n\u001b[0;32m     12\u001b[0m         \u001b[0mself\u001b[0m\u001b[1;33m.\u001b[0m\u001b[0mnum_docks\u001b[0m \u001b[1;33m=\u001b[0m \u001b[0mnum_docks\u001b[0m\u001b[1;33m\u001b[0m\u001b[1;33m\u001b[0m\u001b[0m\n\u001b[0;32m     13\u001b[0m         \u001b[0mself\u001b[0m\u001b[1;33m.\u001b[0m\u001b[0marr_stream\u001b[0m \u001b[1;33m=\u001b[0m \u001b[0marr_stream\u001b[0m\u001b[1;33m\u001b[0m\u001b[1;33m\u001b[0m\u001b[0m\n\u001b[1;32m---> 14\u001b[1;33m         \u001b[0mself\u001b[0m\u001b[1;33m.\u001b[0m\u001b[0msimulate\u001b[0m\u001b[1;33m(\u001b[0m\u001b[0mnum_bikes\u001b[0m\u001b[1;33m,\u001b[0m \u001b[0mnum_docks\u001b[0m\u001b[1;33m,\u001b[0m \u001b[0marr_stream\u001b[0m\u001b[1;33m)\u001b[0m\u001b[1;33m\u001b[0m\u001b[1;33m\u001b[0m\u001b[0m\n\u001b[0m\u001b[0;32m     15\u001b[0m         \u001b[0mprint\u001b[0m\u001b[1;33m(\u001b[0m\u001b[1;34m\"Station \"\u001b[0m \u001b[1;33m+\u001b[0m \u001b[0mstation_name\u001b[0m \u001b[1;33m+\u001b[0m \u001b[1;34m\" has been initialized\"\u001b[0m\u001b[1;33m)\u001b[0m\u001b[1;33m\u001b[0m\u001b[1;33m\u001b[0m\u001b[0m\n\u001b[0;32m     16\u001b[0m \u001b[1;33m\u001b[0m\u001b[0m\n",
      "\u001b[1;32m<ipython-input-87-1872413ee487>\u001b[0m in \u001b[0;36msimulate\u001b[1;34m(self, num_bikes, num_docks, arr_stream)\u001b[0m\n\u001b[0;32m     46\u001b[0m                     \u001b[0mremaining_df\u001b[0m \u001b[1;33m=\u001b[0m \u001b[0marr_stream\u001b[0m\u001b[1;33m.\u001b[0m\u001b[0miloc\u001b[0m\u001b[1;33m[\u001b[0m\u001b[0mi\u001b[0m\u001b[1;33m+\u001b[0m\u001b[1;36m1\u001b[0m\u001b[1;33m:\u001b[0m \u001b[0mlen\u001b[0m\u001b[1;33m(\u001b[0m\u001b[0marr_stream\u001b[0m\u001b[1;33m)\u001b[0m\u001b[1;33m,\u001b[0m \u001b[1;33m:\u001b[0m\u001b[1;33m]\u001b[0m \u001b[1;31m#Look in the remaining df\u001b[0m\u001b[1;33m\u001b[0m\u001b[1;33m\u001b[0m\u001b[0m\n\u001b[0;32m     47\u001b[0m                     \u001b[0mnext_returning_df\u001b[0m \u001b[1;33m=\u001b[0m \u001b[0mremaining_df\u001b[0m\u001b[1;33m.\u001b[0m\u001b[0mwhere\u001b[0m\u001b[1;33m(\u001b[0m\u001b[0mremaining_df\u001b[0m\u001b[1;33m[\u001b[0m\u001b[1;34m\"Type_Of_Customer\"\u001b[0m\u001b[1;33m]\u001b[0m \u001b[1;33m==\u001b[0m \u001b[1;34m\"Returning\"\u001b[0m\u001b[1;33m)\u001b[0m\u001b[1;33m.\u001b[0m\u001b[0mdropna\u001b[0m\u001b[1;33m(\u001b[0m\u001b[1;33m)\u001b[0m \u001b[1;31m#Find the people returning\u001b[0m\u001b[1;33m\u001b[0m\u001b[1;33m\u001b[0m\u001b[0m\n\u001b[1;32m---> 48\u001b[1;33m                     \u001b[0mnext_avail_bike_time\u001b[0m \u001b[1;33m=\u001b[0m \u001b[0mmin\u001b[0m\u001b[1;33m(\u001b[0m\u001b[0mnext_returning_df\u001b[0m\u001b[1;33m[\u001b[0m\u001b[1;34m\"Arrival_Time\"\u001b[0m\u001b[1;33m]\u001b[0m\u001b[1;33m)\u001b[0m \u001b[1;31m#Find the minimum time\u001b[0m\u001b[1;33m\u001b[0m\u001b[1;33m\u001b[0m\u001b[0m\n\u001b[0m\u001b[0;32m     49\u001b[0m                     \u001b[0mwait_time\u001b[0m \u001b[1;33m=\u001b[0m \u001b[0mnext_avail_bike_time\u001b[0m \u001b[1;33m-\u001b[0m \u001b[0marr_stream\u001b[0m\u001b[1;33m.\u001b[0m\u001b[0miloc\u001b[0m\u001b[1;33m[\u001b[0m\u001b[0mi\u001b[0m\u001b[1;33m,\u001b[0m \u001b[1;33m:\u001b[0m\u001b[1;33m]\u001b[0m \u001b[1;33m[\u001b[0m\u001b[1;34m\"Arrival_Time\"\u001b[0m\u001b[1;33m]\u001b[0m\u001b[1;31m#Wait time is next dock time - arrival_time of current customer\u001b[0m\u001b[1;33m\u001b[0m\u001b[1;33m\u001b[0m\u001b[0m\n\u001b[0;32m     50\u001b[0m \u001b[1;33m\u001b[0m\u001b[0m\n",
      "\u001b[1;31mValueError\u001b[0m: min() arg is an empty sequence"
     ]
    }
   ],
   "source": [
    "test_df = pd.DataFrame({\"Arrival_Time\": [0],\n",
    "                        \"Type_Of_Customer\": [\"Borrowing\"],\n",
    "                        \"Station_From\": [\"Joe\"]\n",
    "                       })\n",
    "test_station = Station(\"Bob\", 0, 5, test_df)"
   ]
  },
  {
   "cell_type": "code",
   "execution_count": 89,
   "metadata": {},
   "outputs": [
    {
     "data": {
      "text/plain": [
       "[1, 0]"
      ]
     },
     "execution_count": 89,
     "metadata": {},
     "output_type": "execute_result"
    }
   ],
   "source": [
    "test_station.get_wait_time()"
   ]
  },
  {
   "cell_type": "code",
   "execution_count": 92,
   "metadata": {},
   "outputs": [
    {
     "data": {
      "text/plain": [
       "[0, 1]"
      ]
     },
     "execution_count": 92,
     "metadata": {},
     "output_type": "execute_result"
    }
   ],
   "source": [
    "test_station.get_bike_num()"
   ]
  },
  {
   "cell_type": "code",
   "execution_count": 93,
   "metadata": {},
   "outputs": [
    {
     "data": {
      "text/plain": [
       "[6, 5]"
      ]
     },
     "execution_count": 93,
     "metadata": {},
     "output_type": "execute_result"
    }
   ],
   "source": [
    "test_station.get_dock_num()"
   ]
  },
  {
   "cell_type": "code",
   "execution_count": 84,
   "metadata": {},
   "outputs": [
    {
     "data": {
      "text/plain": [
       "[0, 1, 2, 3]"
      ]
     },
     "execution_count": 84,
     "metadata": {},
     "output_type": "execute_result"
    }
   ],
   "source": [
    "a"
   ]
  },
  {
   "cell_type": "code",
   "execution_count": null,
   "metadata": {},
   "outputs": [],
   "source": []
  }
 ],
 "metadata": {
  "kernelspec": {
   "display_name": "Python 3",
   "language": "python",
   "name": "python3"
  },
  "language_info": {
   "codemirror_mode": {
    "name": "ipython",
    "version": 3
   },
   "file_extension": ".py",
   "mimetype": "text/x-python",
   "name": "python",
   "nbconvert_exporter": "python",
   "pygments_lexer": "ipython3",
   "version": "3.7.3"
  }
 },
 "nbformat": 4,
 "nbformat_minor": 2
}
